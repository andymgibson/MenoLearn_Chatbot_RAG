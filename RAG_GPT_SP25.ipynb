{
 "cells": [
  {
   "cell_type": "code",
   "execution_count": 106,
   "id": "e800e49f-f360-4f0d-8c56-7d9d61bf58cf",
   "metadata": {},
   "outputs": [
    {
     "data": {
      "text/plain": [
       "'\\nRetrieval-Augmented Generation (RAG) Model\\nModel: ChatGPTAPI-3.5T\\nProject: MenoLearn\\n\\nAuthors:\\nWI & SP25 Update: Andrew Gibson\\n'"
      ]
     },
     "execution_count": 106,
     "metadata": {},
     "output_type": "execute_result"
    }
   ],
   "source": [
    "\"\"\"\n",
    "Retrieval-Augmented Generation (RAG) Model\n",
    "Model: ChatGPTAPI-3.5T\n",
    "Project: MenoLearn\n",
    "\n",
    "Authors:\n",
    "WI & SP25 Update: Andrew Gibson\n",
    "\"\"\""
   ]
  },
  {
   "cell_type": "code",
   "execution_count": 107,
   "id": "e72d608a-7b2d-4847-a603-7f18b122f8ed",
   "metadata": {},
   "outputs": [
    {
     "name": "stdout",
     "output_type": "stream",
     "text": [
      "Requirement already satisfied: openai in /opt/homebrew/anaconda3/envs/ragenvconda/lib/python3.12/site-packages (1.76.0)\n",
      "Requirement already satisfied: anyio<5,>=3.5.0 in /opt/homebrew/anaconda3/envs/ragenvconda/lib/python3.12/site-packages (from openai) (4.7.0)\n",
      "Requirement already satisfied: distro<2,>=1.7.0 in /opt/homebrew/anaconda3/envs/ragenvconda/lib/python3.12/site-packages (from openai) (1.9.0)\n",
      "Requirement already satisfied: httpx<1,>=0.23.0 in /opt/homebrew/anaconda3/envs/ragenvconda/lib/python3.12/site-packages (from openai) (0.27.0)\n",
      "Requirement already satisfied: jiter<1,>=0.4.0 in /opt/homebrew/anaconda3/envs/ragenvconda/lib/python3.12/site-packages (from openai) (0.9.0)\n",
      "Requirement already satisfied: pydantic<3,>=1.9.0 in /opt/homebrew/anaconda3/envs/ragenvconda/lib/python3.12/site-packages (from openai) (2.11.3)\n",
      "Requirement already satisfied: sniffio in /opt/homebrew/anaconda3/envs/ragenvconda/lib/python3.12/site-packages (from openai) (1.3.0)\n",
      "Requirement already satisfied: tqdm>4 in /opt/homebrew/anaconda3/envs/ragenvconda/lib/python3.12/site-packages (from openai) (4.67.1)\n",
      "Requirement already satisfied: typing-extensions<5,>=4.11 in /opt/homebrew/anaconda3/envs/ragenvconda/lib/python3.12/site-packages (from openai) (4.12.2)\n",
      "Requirement already satisfied: idna>=2.8 in /opt/homebrew/anaconda3/envs/ragenvconda/lib/python3.12/site-packages (from anyio<5,>=3.5.0->openai) (3.7)\n",
      "Requirement already satisfied: certifi in /opt/homebrew/anaconda3/envs/ragenvconda/lib/python3.12/site-packages (from httpx<1,>=0.23.0->openai) (2025.1.31)\n",
      "Requirement already satisfied: httpcore==1.* in /opt/homebrew/anaconda3/envs/ragenvconda/lib/python3.12/site-packages (from httpx<1,>=0.23.0->openai) (1.0.2)\n",
      "Requirement already satisfied: h11<0.15,>=0.13 in /opt/homebrew/anaconda3/envs/ragenvconda/lib/python3.12/site-packages (from httpcore==1.*->httpx<1,>=0.23.0->openai) (0.14.0)\n",
      "Requirement already satisfied: annotated-types>=0.6.0 in /opt/homebrew/anaconda3/envs/ragenvconda/lib/python3.12/site-packages (from pydantic<3,>=1.9.0->openai) (0.7.0)\n",
      "Requirement already satisfied: pydantic-core==2.33.1 in /opt/homebrew/anaconda3/envs/ragenvconda/lib/python3.12/site-packages (from pydantic<3,>=1.9.0->openai) (2.33.1)\n",
      "Requirement already satisfied: typing-inspection>=0.4.0 in /opt/homebrew/anaconda3/envs/ragenvconda/lib/python3.12/site-packages (from pydantic<3,>=1.9.0->openai) (0.4.0)\n"
     ]
    }
   ],
   "source": [
    "# Forces correct Python version (problem specific to Andrew G's Jupyter Notebooks)\n",
    "import sys\n",
    "!{sys.executable} -m pip install openai\n",
    "\n",
    "# For most devs the following will be sufficient:\n",
    "# ! pip install openai"
   ]
  },
  {
   "cell_type": "code",
   "execution_count": 110,
   "id": "d3abbfb3-a0a4-42f9-9a3b-156a7619fcef",
   "metadata": {},
   "outputs": [
    {
     "name": "stdout",
     "output_type": "stream",
     "text": [
      "ragenvconda\n"
     ]
    }
   ],
   "source": [
    "# checkout current conda environment\n",
    "!echo $CONDA_DEFAULT_ENV"
   ]
  },
  {
   "cell_type": "code",
   "execution_count": null,
   "id": "1bcb506d-e5a2-483d-97eb-2783a8aa6482",
   "metadata": {},
   "outputs": [],
   "source": [
    "import openai\n",
    "\n",
    "# Initialize the client with MenoLearn API Key\n",
    "client = openai.OpenAI(api_key=\"\")\n"
   ]
  },
  {
   "cell_type": "code",
   "execution_count": 115,
   "id": "0496c604-03a8-486d-9b88-e22d9b78992e",
   "metadata": {},
   "outputs": [],
   "source": [
    "# Source from multiple files\n",
    "file_paths = [\"Intl J Gynecology Obste 2024 Genazzani Counseling in menopausal women.pdf\", \n",
    "              \"JMM The 2020 Menopausal Hormone Therapy Guidelines.pdf\", \n",
    "              \"BMJ Diagnosis and management of menopause- summary of NICE guidance.pdf\", \n",
    "             \"nams 2022 hormone therapy position statement.pdf\",\n",
    "             \"Flores 2021 Hormone Therapy in Menopause- Concepts, Controversies, and Approach to Treatment.pdf\", \n",
    "             \"Hill 2016 Hormone Therapy and Other Treatments for Symptoms of Menopause.pdf\"]"
   ]
  },
  {
   "cell_type": "code",
   "execution_count": null,
   "id": "2fae8496-da4a-4eb2-8068-7dbbb52b9ef7",
   "metadata": {},
   "outputs": [],
   "source": [
    "# When you ingest each file, attach metadata for name and URL.\n",
    "for path, url in [\n",
    "    (\"Intl J Gynecology Obste 2024 Genazzani Counseling in menopausal women.pdf\", \"https://obgyn.onlinelibrary.wiley.com/doi/10.1002/ijgo.15278\"),\n",
    "    (\"JMM The 2020 Menopausal Hormone Therapy Guidelines.pdf\", \"https://pmc.ncbi.nlm.nih.gov/articles/PMC7475284/\"),\n",
    "    (\"BMJ Diagnosis and management of menopause- summary of NICE guidance.pdf\", \"https://www.bmj.com/content/351/bmj.h5746/rapid-responses\"),\n",
    "    (\"nams 2022 hormone therapy position statement.pdf\", \"https://menopause.org/wp-content/uploads/professional/nams-2022-hormone-therapy-position-statement.pdf\"),\n",
    "    (\"Flores 2021 Hormone Therapy in Menopause- Concepts, Controversies, and Approach to Treatment.pdf\", \"https://academic.oup.com/edrv/article/42/6/720/6226912\"),\n",
    "    (\"Hill 2016 Hormone Therapy and Other Treatments for Symptoms of Menopause.pdf\", \"https://www.aafp.org/pubs/afp/issues/2016/1201/p884.pdf\")\n",
    "]:\n",
    "    with open(path, \"rb\") as f:\n",
    "        client.vector_stores.files.upload_and_poll(\n",
    "            vector_store_id=vector_store.id,\n",
    "            file=f,\n",
    "            metadata={\"source_name\": path, \"source_url\": url}\n",
    "        )"
   ]
  },
  {
   "cell_type": "code",
   "execution_count": 116,
   "id": "99ff4630-6c9b-4b91-896d-8bde3aedfb14",
   "metadata": {},
   "outputs": [
    {
     "name": "stdout",
     "output_type": "stream",
     "text": [
      "vs_68191e3cd5548191a1d7816d26e75a8a\n"
     ]
    }
   ],
   "source": [
    "\n",
    "vector_store = client.vector_stores.create(        # Create vector store\n",
    "    name=\"MenoLearn RAG Vector Store\",\n",
    ")\n",
    "print(vector_store.id)\n",
    "\n",
    "\"\"\"\n",
    "client.vector_stores.files.upload_and_poll(        # Upload file\n",
    "    vector_store_id=vector_store.id,\n",
    "    file=open(\"RAG Dataset.txt\", \"rb\")\n",
    ")\n",
    "\"\"\"\n",
    "for path in file_paths:\n",
    "    with open(path, \"rb\") as file:\n",
    "        client.vector_stores.files.upload_and_poll(\n",
    "            vector_store_id=vector_store.id,\n",
    "            file=file\n",
    "        )"
   ]
  },
  {
   "cell_type": "code",
   "execution_count": 117,
   "id": "0b6b84bd-a97d-474d-bde3-74e193764d88",
   "metadata": {},
   "outputs": [
    {
     "data": {
      "text/plain": [
       "SyncCursorPage[VectorStore](data=[VectorStore(id='vs_68191e3cd5548191a1d7816d26e75a8a', created_at=1746476604, file_counts=FileCounts(cancelled=0, completed=7, failed=0, in_progress=0, total=7), last_active_at=1746476625, metadata={}, name='MenoLearn RAG Vector Store', object='vector_store', status='completed', usage_bytes=1402206, expires_after=None, expires_at=None), VectorStore(id='vs_681907c458a08191b49f951144f03341', created_at=1746470852, file_counts=FileCounts(cancelled=0, completed=3, failed=0, in_progress=0, total=3), last_active_at=1746470864, metadata={}, name='MenoLearn RAG Vector Store', object='vector_store', status='completed', usage_bytes=676625, expires_after=None, expires_at=None), VectorStore(id='vs_681906cf3a9c81918cf843528d36f211', created_at=1746470607, file_counts=FileCounts(cancelled=0, completed=3, failed=0, in_progress=0, total=3), last_active_at=1746470620, metadata={}, name='MenoLearn RAG Vector Store', object='vector_store', status='completed', usage_bytes=676625, expires_after=None, expires_at=None), VectorStore(id='vs_6815563649288191a54ec7e779ea77b1', created_at=1746228790, file_counts=FileCounts(cancelled=0, completed=3, failed=0, in_progress=0, total=3), last_active_at=1746229482, metadata={}, name='MenoLearn RAG Vector Store', object='vector_store', status='completed', usage_bytes=676625, expires_after=None, expires_at=None), VectorStore(id='vs_681554efd498819185a2d4f9a5ab1a12', created_at=1746228463, file_counts=FileCounts(cancelled=0, completed=3, failed=0, in_progress=0, total=3), last_active_at=1746228502, metadata={}, name='MenoLearn RAG Vector Store', object='vector_store', status='completed', usage_bytes=676625, expires_after=None, expires_at=None), VectorStore(id='vs_681554d693308191bd6ced7a9416aafa', created_at=1746228438, file_counts=FileCounts(cancelled=0, completed=3, failed=0, in_progress=0, total=3), last_active_at=1746228446, metadata={}, name='MenoLearn RAG Vector Store', object='vector_store', status='completed', usage_bytes=676625, expires_after=None, expires_at=None), VectorStore(id='vs_6815508bf5748191a7b43f49503f40b9', created_at=1746227339, file_counts=FileCounts(cancelled=0, completed=1, failed=0, in_progress=0, total=1), last_active_at=1746227824, metadata={}, name='MenoLearn RAG Vector Store', object='vector_store', status='completed', usage_bytes=195889, expires_after=None, expires_at=None), VectorStore(id='vs_680fd331d46c81919bfe3f46bbdbd987', created_at=1745867569, file_counts=FileCounts(cancelled=0, completed=1, failed=0, in_progress=0, total=1), last_active_at=1745868218, metadata={}, name='MenoLearn RAG Vector Store', object='vector_store', status='completed', usage_bytes=195889, expires_after=None, expires_at=None), VectorStore(id='vs_680fd2913c88819195c207a3669151a7', created_at=1745867409, file_counts=FileCounts(cancelled=0, completed=1, failed=0, in_progress=0, total=1), last_active_at=1745867470, metadata={}, name='MenoLearn RAG Vector Store', object='vector_store', status='completed', usage_bytes=195889, expires_after=None, expires_at=None), VectorStore(id='vs_680fca8e95608191a2cd7eb2a069ba6d', created_at=1745865358, file_counts=FileCounts(cancelled=0, completed=1, failed=0, in_progress=0, total=1), last_active_at=1745865396, metadata={}, name='MenoLearn RAG Vector Store', object='vector_store', status='completed', usage_bytes=195889, expires_after=None, expires_at=None), VectorStore(id='vs_680703fe58048191a9fba6b4a8c5b075', created_at=1745290238, file_counts=FileCounts(cancelled=0, completed=1, failed=0, in_progress=0, total=1), last_active_at=1745290277, metadata={}, name='MenoLearn RAG Vector Store', object='vector_store', status='completed', usage_bytes=195889, expires_after=None, expires_at=None), VectorStore(id='vs_68070399c5348191a0749043c2525bdd', created_at=1745290137, file_counts=FileCounts(cancelled=0, completed=1, failed=0, in_progress=0, total=1), last_active_at=1745290138, metadata={}, name='MenoLearn RAG Vector Store', object='vector_store', status='completed', usage_bytes=195889, expires_after=None, expires_at=None), VectorStore(id='vs_68070385d2c8819188681f05d85fbedd', created_at=1745290117, file_counts=FileCounts(cancelled=0, completed=0, failed=0, in_progress=0, total=0), last_active_at=1745290117, metadata={}, name='MenoLearn RAG Vector Store', object='vector_store', status='completed', usage_bytes=0, expires_after=None, expires_at=None), VectorStore(id='vs_680701be19a08191891051c1c87538a8', created_at=1745289662, file_counts=FileCounts(cancelled=0, completed=1, failed=0, in_progress=0, total=1), last_active_at=1745289874, metadata={}, name='MenoLearn RAG Vector Store', object='vector_store', status='completed', usage_bytes=195889, expires_after=None, expires_at=None), VectorStore(id='vs_6806fdbdaa7881918da90d2859967007', created_at=1745288637, file_counts=FileCounts(cancelled=0, completed=0, failed=0, in_progress=0, total=0), last_active_at=1745288637, metadata={}, name='MenoLearn RAG Vector Store', object='vector_store', status='completed', usage_bytes=0, expires_after=None, expires_at=None), VectorStore(id='vs_67fd516201a48191916e4c89c0e2d72e', created_at=1744654690, file_counts=FileCounts(cancelled=0, completed=1, failed=0, in_progress=0, total=1), last_active_at=1744654690, metadata={}, name=None, object='vector_store', status='completed', usage_bytes=909741, expires_after=None, expires_at=None)], has_more=False, object='list', first_id='vs_68191e3cd5548191a1d7816d26e75a8a', last_id='vs_67fd516201a48191916e4c89c0e2d72e')"
      ]
     },
     "execution_count": 117,
     "metadata": {},
     "output_type": "execute_result"
    }
   ],
   "source": [
    "client.vector_stores.list()"
   ]
  },
  {
   "cell_type": "code",
   "execution_count": 118,
   "id": "c4846df7-50bf-4bc0-87ce-0d605f2dc905",
   "metadata": {},
   "outputs": [
    {
     "data": {
      "text/plain": [
       "'\\n# Extract the text from the retrieved documents\\ncontext = \"\\n\\n\".join([doc.document.text for doc in results.data])\\n\\n# Generate a concise answer using the retrieved context\\nresponse = client.chat.completions.create(\\n    model=\"gpt-4\",\\n    messages=[\\n        {\\n            \"role\": \"system\",\\n            \"content\": \"Answer the question concisely in 1-2 sentences and cite only the most relevant 1-2 documents.\"\\n        },\\n        {\\n            \"role\": \"user\",\\n            \"content\": f\"{user_query}\\n\\nContext:\\n{context}\"\\n        }\\n    ],\\n    max_tokens=200  # Limits the length of the generated answer\\n)\\n'"
      ]
     },
     "execution_count": 118,
     "metadata": {},
     "output_type": "execute_result"
    }
   ],
   "source": [
    "# Send search query to get relevant results\n",
    "user_query = \"How should I manage cramps during perimenopause?\"\n",
    "\n",
    "# Retrieve relevant documents\n",
    "results = client.vector_stores.search(\n",
    "    vector_store_id=vector_store.id,\n",
    "    query=user_query\n",
    ")\n",
    "\n",
    "# Manually select the top 2 results\n",
    "top_results = results.data[:1]\n",
    "\n",
    "\"\"\"\n",
    "# Extract the text from the retrieved documents\n",
    "context = \"\\n\\n\".join([doc.document.text for doc in results.data])\n",
    "\n",
    "# Generate a concise answer using the retrieved context\n",
    "response = client.chat.completions.create(\n",
    "    model=\"gpt-4\",\n",
    "    messages=[\n",
    "        {\n",
    "            \"role\": \"system\",\n",
    "            \"content\": \"Answer the question concisely in 1-2 sentences and cite only the most relevant 1-2 documents.\"\n",
    "        },\n",
    "        {\n",
    "            \"role\": \"user\",\n",
    "            \"content\": f\"{user_query}\\n\\nContext:\\n{context}\"\n",
    "        }\n",
    "    ],\n",
    "    max_tokens=200  # Limits the length of the generated answer\n",
    ")\n",
    "\"\"\""
   ]
  },
  {
   "cell_type": "code",
   "execution_count": 119,
   "id": "700df794-112d-499f-9f16-ff5e8dcc242e",
   "metadata": {},
   "outputs": [
    {
     "name": "stdout",
     "output_type": "stream",
     "text": [
      "\n",
      "--- Top Result 1 ---\n",
      "When choosing a nonhormonal regimen, consideration should be given to use the lowest effective dose\n",
      "to avoid the unwanted side effect of de- creased libido, as well as potential nausea, constipation,\n",
      "and dry mouth (255). The following SSRIs (paroxetine, fluox- etine, sertraline) should specifically\n",
      "be avoided in women taking tamoxifen as an adjuvant therapy in the manage- ment of breast cancer\n",
      "because they can inhibit tamoxifen’s active metabolite (256, 257). The antiseizure medications\n",
      "gabapentin and pregabalin also reduce VMS; however, side effects limit their use at high doses\n",
      "(258-260). Gabapentin and pregabalin both can cause drowsiness and dizziness; pregabalin can also\n",
      "decrease libido. In a randomized, placebo-controlled phase 2 trial, oxybutynin was also found to be\n",
      "more effective than placebo (73% vs 26%) at relieving moderate-to-severe VMS, with dry mouth being\n",
      "the most common side effect (261). As the neurokinin B/neurokinin 3 receptor (NK3R) signaling\n",
      "pathway has recently been impli- cated in the initiation of a hot flash, recent work has focused on\n",
      "blocking this pathway (262). In 2 randomized, placebo- controlled studies (using 2 different NK3R\n",
      "antagonists), it was found that these nonhormonal agents reduced hot flashes in symptomatic\n",
      "postmenopausal women by 45% (263, 264). While these results are promising, additional studies are\n",
      "needed to assess safety of NK3R antagonists. Although GSM is best treated by low-dose vaginal es-\n",
      "trogen, intravaginal dehydroepiandrosterone (DHEA), or ospemifene administration (208, 233, 265)\n",
      "(Table 5); how- ever, alternative nonhormonal therapies include vaginal lubricants and moisturizers\n",
      "(266). Lubricants provide im- mediate, short-term relief of vaginal dryness and related pain during\n",
      "sex. There are no published studies on the irritation potential of various types of lubricants, so\n",
      "it is recommended that women first test on their skin prior to using intravaginally. If no skin\n",
      "irritation occurs, they can proceed with a given product (209). Moisturizers serve to hydrate dry\n",
      "mucosal tissue and, because they adhere to the vaginal lining, they can mimic normal vaginal\n",
      "secretions (266) and may be helpful for GSM (267, 268). Treatment by Indication Vasomotor symptoms,\n",
      "genitourinary syndrome of menopause, bone health, hypoestrogenism in perimenopausal women In\n",
      "appropriately evaluated women who are deemed not to have an elevated risk of VTE, CVD, or breast\n",
      "cancer, HT D ow nloaded from https://academ ic.oup.com /edrv/article/42/6/720/6226912 by guest on 05\n",
      "M ay 2025 https://www.menopause.org/for-women/-i-menopro-i-mobile-app https://www.menopause.org/for-\n",
      "women/-i-menopro-i-mobile-app 738 Endocrine Reviews, 2021, Vol. 42, No. 6\n"
     ]
    }
   ],
   "source": [
    "import textwrap\n",
    "\n",
    "\n",
    "# Loop through each search result in the page\n",
    "for i, result in enumerate(top_results, start=1):\n",
    "    print(f\"\\n--- Top Result {i} ---\")\n",
    "\n",
    "    # Extract and clean the text content\n",
    "    for content_item in result.content:\n",
    "        if hasattr(content_item, 'text'):\n",
    "            raw_text = content_item.text\n",
    "            clean_text = ' '.join(raw_text.split())  # Removes extra spaces and newlines\n",
    "            wrapped_text = textwrap.fill(clean_text, width=100)\n",
    "            print(wrapped_text)\n"
   ]
  },
  {
   "cell_type": "code",
   "execution_count": 33,
   "id": "c84ddd1f-aca0-49cf-a7b6-aa65725a907c",
   "metadata": {},
   "outputs": [],
   "source": [
    "\"\"\"\n",
    "# Semantic search, search query\n",
    "results = client.vector_stores.search(\n",
    "    vector_store_id=vector_store.id,\n",
    "    query=\"What hormone replacement options are there?\",\n",
    ")\n",
    "\"\"\""
   ]
  },
  {
   "cell_type": "code",
   "execution_count": 34,
   "id": "d658b066-f78c-4714-bd82-c3683eca981e",
   "metadata": {},
   "outputs": [
    {
     "data": {
      "text/plain": [
       "VectorStore(id='vs_680fd331d46c81919bfe3f46bbdbd987', created_at=1745867569, file_counts=FileCounts(cancelled=0, completed=1, failed=0, in_progress=0, total=1), last_active_at=1745868218, metadata={}, name='MenoLearn RAG Vector Store', object='vector_store', status='completed', usage_bytes=195889, expires_after=None, expires_at=None)"
      ]
     },
     "execution_count": 34,
     "metadata": {},
     "output_type": "execute_result"
    }
   ],
   "source": [
    "\"\"\"\n",
    "client.vector_stores.retrieve(\n",
    "    vector_store_id=\"vs_680fd331d46c81919bfe3f46bbdbd987\"\n",
    ")\n",
    "\"\"\""
   ]
  },
  {
   "cell_type": "code",
   "execution_count": null,
   "id": "0e7bacb8-dce2-439a-b69c-11e1d4ca69aa",
   "metadata": {},
   "outputs": [],
   "source": []
  }
 ],
 "metadata": {
  "kernelspec": {
   "display_name": "Python 3 (ipykernel)",
   "language": "python",
   "name": "python3"
  },
  "language_info": {
   "codemirror_mode": {
    "name": "ipython",
    "version": 3
   },
   "file_extension": ".py",
   "mimetype": "text/x-python",
   "name": "python",
   "nbconvert_exporter": "python",
   "pygments_lexer": "ipython3",
   "version": "3.12.9"
  }
 },
 "nbformat": 4,
 "nbformat_minor": 5
}
